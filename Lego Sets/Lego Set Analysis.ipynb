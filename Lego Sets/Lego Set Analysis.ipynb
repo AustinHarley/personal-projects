{
 "cells": [
  {
   "cell_type": "markdown",
   "metadata": {},
   "source": [
    "# Lego Set Analysis\n",
    "--------\n",
    "This program returns the top 5 Lego sets by piece count from a database of over 11,000 sets."
   ]
  },
  {
   "cell_type": "code",
   "execution_count": 1,
   "metadata": {},
   "outputs": [],
   "source": [
    "import numpy as np\n",
    "import csv"
   ]
  },
  {
   "cell_type": "code",
   "execution_count": 2,
   "metadata": {},
   "outputs": [
    {
     "name": "stdout",
     "output_type": "stream",
     "text": [
      "**Top 5 Lego Sets by Piece Count**\n",
      "#1 - Taj Mahal [Pieces: 5922]\n",
      "#2 - Star Wars / M&M Mosaic - Promo Set [Pieces: 5461]\n",
      "#3 - Window Exploration Bag [Pieces: 5200]\n",
      "#4 - Millennium Falcon - UCS [Pieces: 5195]\n",
      "#5 - Firehouse Headquarters [Pieces: 4640]\n"
     ]
    }
   ],
   "source": [
    "filename = 'sets.csv'\n",
    "fileobj = open(filename, 'r', encoding='utf-8')\n",
    "readerobj = csv.reader(fileobj)\n",
    "data = []\n",
    "for r in readerobj:\n",
    "    data.append(r)\n",
    "fileobj.close()\n",
    "sets = np.asarray(data) # convert to NumPy array\n",
    "\n",
    "set_no_header = sets[1:]\n",
    "partnum = []\n",
    "setname = []\n",
    "for i in range(len(set_no_header)):\n",
    "    setname.append(set_no_header[i,1])\n",
    "    partnum.append(int(set_no_header[i,4]))\n",
    "\n",
    "newlist = list(zip(setname,partnum))\n",
    "\n",
    "srt = sorted(newlist,key=lambda x: x[1])\n",
    "newarr = np.array(srt)\n",
    "print(\"**Top 5 Lego Sets by Piece Count**\")\n",
    "temp = [-1,-2,-3,-4,-5]\n",
    "for i in temp:\n",
    "    print(\"#\" + str(abs(i)) + \" - \" + str(newarr[i,0]) + \n",
    "        \" [Pieces: \" + str(newarr[i,1]) + \"]\")"
   ]
  },
  {
   "cell_type": "markdown",
   "metadata": {},
   "source": [
    "------\n",
    "Data pulled from Rebrickable.com"
   ]
  }
 ],
 "metadata": {
  "kernelspec": {
   "display_name": "Python 3",
   "language": "python",
   "name": "python3"
  },
  "language_info": {
   "codemirror_mode": {
    "name": "ipython",
    "version": 3
   },
   "file_extension": ".py",
   "mimetype": "text/x-python",
   "name": "python",
   "nbconvert_exporter": "python",
   "pygments_lexer": "ipython3",
   "version": "3.6.5"
  }
 },
 "nbformat": 4,
 "nbformat_minor": 2
}
