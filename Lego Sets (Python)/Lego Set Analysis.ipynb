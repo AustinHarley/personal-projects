{
 "cells": [
  {
   "cell_type": "markdown",
   "metadata": {},
   "source": [
    "# Lego Set Analysis\n",
    "Analyzing Lego sets by piece count.\n",
    "\n",
    "---"
   ]
  },
  {
   "cell_type": "code",
   "execution_count": 12,
   "metadata": {},
   "outputs": [],
   "source": [
    "import pandas as pd\n",
    "import numpy as np\n",
    "import csv"
   ]
  },
  {
   "cell_type": "markdown",
   "metadata": {},
   "source": [
    "## New Method\n",
    "Simplified/optimized using Pandas and sorting."
   ]
  },
  {
   "cell_type": "code",
   "execution_count": 13,
   "metadata": {
    "scrolled": false
   },
   "outputs": [
    {
     "name": "stdout",
     "output_type": "stream",
     "text": [
      "**Top 5 Lego Sets by Piece Count**\n"
     ]
    },
    {
     "data": {
      "text/html": [
       "<div>\n",
       "<style scoped>\n",
       "    .dataframe tbody tr th:only-of-type {\n",
       "        vertical-align: middle;\n",
       "    }\n",
       "\n",
       "    .dataframe tbody tr th {\n",
       "        vertical-align: top;\n",
       "    }\n",
       "\n",
       "    .dataframe thead th {\n",
       "        text-align: right;\n",
       "    }\n",
       "</style>\n",
       "<table border=\"1\" class=\"dataframe\">\n",
       "  <thead>\n",
       "    <tr style=\"text-align: right;\">\n",
       "      <th></th>\n",
       "      <th>name</th>\n",
       "      <th>num_parts</th>\n",
       "    </tr>\n",
       "  </thead>\n",
       "  <tbody>\n",
       "    <tr>\n",
       "      <th>10714</th>\n",
       "      <td>UCS Millennium Falcon</td>\n",
       "      <td>7541</td>\n",
       "    </tr>\n",
       "    <tr>\n",
       "      <th>10065</th>\n",
       "      <td>Hogwarts Castle</td>\n",
       "      <td>6016</td>\n",
       "    </tr>\n",
       "    <tr>\n",
       "      <th>294</th>\n",
       "      <td>Taj Mahal</td>\n",
       "      <td>5923</td>\n",
       "    </tr>\n",
       "    <tr>\n",
       "      <th>220</th>\n",
       "      <td>Taj Mahal</td>\n",
       "      <td>5922</td>\n",
       "    </tr>\n",
       "    <tr>\n",
       "      <th>14923</th>\n",
       "      <td>Star Wars / M&amp;M Mosaic - Promo Set</td>\n",
       "      <td>5461</td>\n",
       "    </tr>\n",
       "  </tbody>\n",
       "</table>\n",
       "</div>"
      ],
      "text/plain": [
       "                                     name  num_parts\n",
       "10714               UCS Millennium Falcon       7541\n",
       "10065                     Hogwarts Castle       6016\n",
       "294                             Taj Mahal       5923\n",
       "220                             Taj Mahal       5922\n",
       "14923  Star Wars / M&M Mosaic - Promo Set       5461"
      ]
     },
     "execution_count": 13,
     "metadata": {},
     "output_type": "execute_result"
    }
   ],
   "source": [
    "sets = pd.read_csv(\"sets.csv\")\n",
    "sets_sorted = sets.sort_values(by=[\"num_parts\"], ascending=False)[:5]\n",
    "\n",
    "print(\"**Top 5 Lego Sets by Piece Count**\")\n",
    "sets_sorted[[\"name\",\"num_parts\"]]"
   ]
  },
  {
   "cell_type": "markdown",
   "metadata": {},
   "source": [
    "## Old Method\n",
    "Uses numpy, inefficient (using practices learned from my first Python course in college)."
   ]
  },
  {
   "cell_type": "code",
   "execution_count": 3,
   "metadata": {},
   "outputs": [
    {
     "name": "stdout",
     "output_type": "stream",
     "text": [
      "**Top 5 Lego Sets by Piece Count**\n",
      "#1 - UCS Millennium Falcon [Pieces: 7541]\n",
      "#2 - Hogwarts Castle [Pieces: 6016]\n",
      "#3 - Taj Mahal [Pieces: 5923]\n",
      "#4 - Taj Mahal [Pieces: 5922]\n",
      "#5 - Star Wars / M&M Mosaic - Promo Set [Pieces: 5461]\n"
     ]
    }
   ],
   "source": [
    "filename = 'sets.csv'\n",
    "fileobj = open(filename, 'r', encoding='utf-8')\n",
    "readerobj = csv.reader(fileobj)\n",
    "data = []\n",
    "for r in readerobj:\n",
    "    data.append(r)\n",
    "fileobj.close()\n",
    "sets = np.asarray(data) # convert to NumPy array\n",
    "\n",
    "set_no_header = sets[1:]\n",
    "partnum = []\n",
    "setname = []\n",
    "for i in range(len(set_no_header)):\n",
    "    setname.append(set_no_header[i,1])\n",
    "    partnum.append(int(set_no_header[i,4]))\n",
    "\n",
    "newlist = list(zip(setname,partnum))\n",
    "\n",
    "srt = sorted(newlist,key=lambda x: x[1])\n",
    "newarr = np.array(srt)\n",
    "print(\"**Top 5 Lego Sets by Piece Count**\")\n",
    "temp = [-1,-2,-3,-4,-5]\n",
    "for i in temp:\n",
    "    print(\"#\" + str(abs(i)) + \" - \" + str(newarr[i,0]) + \n",
    "        \" [Pieces: \" + str(newarr[i,1]) + \"]\")"
   ]
  },
  {
   "cell_type": "markdown",
   "metadata": {},
   "source": [
    "------\n",
    "Data pulled from Rebrickable.com"
   ]
  },
  {
   "cell_type": "code",
   "execution_count": null,
   "metadata": {},
   "outputs": [],
   "source": []
  }
 ],
 "metadata": {
  "kernelspec": {
   "display_name": "Python 3",
   "language": "python",
   "name": "python3"
  },
  "language_info": {
   "codemirror_mode": {
    "name": "ipython",
    "version": 3
   },
   "file_extension": ".py",
   "mimetype": "text/x-python",
   "name": "python",
   "nbconvert_exporter": "python",
   "pygments_lexer": "ipython3",
   "version": "3.6.5"
  }
 },
 "nbformat": 4,
 "nbformat_minor": 2
}
