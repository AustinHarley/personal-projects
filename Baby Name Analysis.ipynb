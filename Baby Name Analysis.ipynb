{
 "cells": [
  {
   "cell_type": "markdown",
   "metadata": {},
   "source": [
    "# Baby Name Analysis\n",
    "----------------\n",
    "This program analyzes the most popular baby names over the past century, as well as functions which accept input."
   ]
  },
  {
   "cell_type": "code",
   "execution_count": 2,
   "metadata": {},
   "outputs": [],
   "source": [
    "import csv\n",
    "import numpy as np"
   ]
  },
  {
   "cell_type": "code",
   "execution_count": 3,
   "metadata": {},
   "outputs": [
    {
     "name": "stdout",
     "output_type": "stream",
     "text": [
      "The most popular male baby name between 1880 and 2000 was John (for 44 total years)\n",
      "The most popular female baby name between 1880 and 2000 was Mary (for 76 total years)\n",
      "The name Austin was not the most popular in any year (between 1880 and 2000)\n",
      "The name Jessica was the most popular 9 years (between 1880 and 2000)\n",
      "['1985' '1986' '1987' '1988' '1989' '1990' '1993' '1994' '1995']\n"
     ]
    }
   ],
   "source": [
    "filename = 'NationalNames.csv'\n",
    "fileobj = open(filename, 'r')\n",
    "readerobj = csv.reader(fileobj)\n",
    "data = []\n",
    "for r in readerobj:\n",
    "    data.append(r)\n",
    "fileobj.close()\n",
    "national = np.asarray(data) # convert to NumPy array\n",
    "\n",
    "def pop_name_year(db, yr):\n",
    "    yr_split = db[:,2]\n",
    "    yr_condition = np.where(yr_split == str(yr))\n",
    "    yr_arr_tmp = np.array(db[yr_condition,:])\n",
    "    yr_arr = np.reshape(yr_arr_tmp, (np.shape(yr_arr_tmp)[1],5))\n",
    "    \n",
    "    g_split = yr_arr[:,3]\n",
    "    g_f_condition = np.where(g_split == 'F')\n",
    "    f_names_tmp = np.array(yr_arr[g_f_condition,:])\n",
    "    f_names = np.reshape(f_names_tmp, (np.shape(f_names_tmp)[1],5))\n",
    "    \n",
    "    g_m_condition = np.where(g_split == 'M')\n",
    "    m_names_tmp = np.array(yr_arr[g_m_condition,:])\n",
    "    m_names = np.reshape(m_names_tmp, (np.shape(m_names_tmp)[1],5))\n",
    "    \n",
    "    top_f = f_names[0,1]\n",
    "    top_m = m_names[0,1]\n",
    "    yr = [yr,top_f,top_m]\n",
    "    \n",
    "    return yr\n",
    "\n",
    "def is_it_pop(db,name):\n",
    "    years = np.arange(1880,2000,1)\n",
    "    decades = []\n",
    "    for i in years:\n",
    "        decades.append(pop_name_year(db,i))\n",
    "    newlist = np.reshape(decades, (np.shape(decades)[0],3))\n",
    "    cond = np.where(newlist == str(name))\n",
    "    nametest = newlist[cond,0]\n",
    "    if np.size(nametest) == 0:\n",
    "        print(\"The name \"+str(name)+\" was not the most popular in any year \"\n",
    "            +\"(between 1880 and 2000)\")\n",
    "    else:\n",
    "        print(\"The name \"+str(name)+\" was the most popular \"\n",
    "        +str(np.size(nametest[0]))+ \" years (between 1880 and 2000)\")\n",
    "        print(nametest[0])\n",
    "\n",
    "def most_pop_f():\n",
    "    years = np.arange(1880,2000,1)\n",
    "    decades = []\n",
    "    for i in years:\n",
    "        decades.append(pop_name_year(national,i))\n",
    "    newlist = np.reshape(decades, (np.shape(decades)[0],3))\n",
    "    f_pop = list(newlist[:,1])\n",
    "    f_pop_names = list(set(f_pop))\n",
    "    count = []\n",
    "    name = []\n",
    "    for i in f_pop_names:\n",
    "        name.append(i)\n",
    "        count.append(f_pop.count(i))\n",
    "    newlist = list(zip(name,count))\n",
    "    srt = sorted(newlist,key=lambda x: x[1])\n",
    "    newarr = np.array(srt)\n",
    "    print(\"The most popular female baby name between 1880 and 2000 was \" \n",
    "        + str(newarr[-1,0]) + \" (for \"+str(newarr[-1,1])+\" total years)\")\n",
    "def most_pop_m():\n",
    "    years = np.arange(1880,2000,1)\n",
    "    decades = []\n",
    "    for i in years:\n",
    "        decades.append(pop_name_year(national,i))\n",
    "    newlist = np.reshape(decades, (np.shape(decades)[0],3))\n",
    "    f_pop = list(newlist[:,2])\n",
    "    f_pop_names = list(set(f_pop))\n",
    "    count = []\n",
    "    name = []\n",
    "    for i in f_pop_names:\n",
    "        name.append(i)\n",
    "        count.append(f_pop.count(i))\n",
    "    newlist = list(zip(name,count))\n",
    "    srt = sorted(newlist,key=lambda x: x[1])\n",
    "    newarr = np.array(srt)\n",
    "    print(\"The most popular male baby name between 1880 and 2000 was \" \n",
    "        + str(newarr[-1,0]) + \" (for \"+str(newarr[-1,1])+\" total years)\")\n",
    "\n",
    "most_pop_m()\n",
    "most_pop_f()\n",
    "is_it_pop(national,'Austin')\n",
    "is_it_pop(national,'Jessica')"
   ]
  }
 ],
 "metadata": {
  "kernelspec": {
   "display_name": "Python 3",
   "language": "python",
   "name": "python3"
  },
  "language_info": {
   "codemirror_mode": {
    "name": "ipython",
    "version": 3
   },
   "file_extension": ".py",
   "mimetype": "text/x-python",
   "name": "python",
   "nbconvert_exporter": "python",
   "pygments_lexer": "ipython3",
   "version": "3.6.5"
  }
 },
 "nbformat": 4,
 "nbformat_minor": 2
}
